{
 "cells": [
  {
   "cell_type": "code",
   "execution_count": null,
   "id": "5586d1a6-bca2-4092-bdaa-34fd526f5830",
   "metadata": {},
   "outputs": [],
   "source": []
  }
 ],
 "metadata": {
  "kernelspec": {
   "display_name": "",
   "name": ""
  },
  "language_info": {
   "name": ""
  }
 },
 "nbformat": 4,
 "nbformat_minor": 5
}
