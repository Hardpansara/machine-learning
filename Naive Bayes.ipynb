{
 "cells": [
  {
   "cell_type": "code",
   "execution_count": null,
   "id": "7fa6a7e2-a202-4fd0-94f0-a92624d73796",
   "metadata": {},
   "outputs": [],
   "source": []
  }
 ],
 "metadata": {
  "kernelspec": {
   "display_name": "",
   "name": ""
  },
  "language_info": {
   "name": ""
  }
 },
 "nbformat": 4,
 "nbformat_minor": 5
}
