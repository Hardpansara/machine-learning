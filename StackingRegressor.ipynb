{
 "cells": [
  {
   "cell_type": "code",
   "execution_count": 4,
   "id": "eda4cf0f-0c7f-465a-b456-ca5c8983776e",
   "metadata": {},
   "outputs": [
    {
     "name": "stdout",
     "output_type": "stream",
     "text": [
      "Voting Regressor Accuracy (R^2 Score):-0.45\n"
     ]
    }
   ],
   "source": [
    "import numpy as np\n",
    "from sklearn.ensemble import StackingRegressor\n",
    "from sklearn.linear_model import LinearRegression\n",
    "from sklearn.metrics import r2_score\n",
    "from sklearn.model_selection import train_test_split\n",
    "from sklearn.svm import SVR\n",
    "from sklearn.tree import DecisionTreeRegressor\n",
    "#Define base models\n",
    "base_models=[('svr',SVR()),\n",
    "             ('dtr',DecisionTreeRegressor(random_state=42))\n",
    "            ]\n",
    "\n",
    "X = np.array([\n",
    "    [200,30,2],[180,28,2],[220,32,1],[190,29,3],[210,31,2],\n",
    "    [195,30,1],[205,32,3],[185,28,2],[225,33,1],[175,27,3]\n",
    "])\n",
    "\n",
    "y = np.array([52,55,53,60,58,62,65,68,70,75]) #crop price\n",
    "\n",
    "#split data into tranning and tsting sets\n",
    "X_train, X_test, y_train, y_test = train_test_split(X,y,test_size=0.2,random_state=42)\n",
    "\n",
    "#Define stacking model with a meta-learner\n",
    "stacking = StackingRegressor(estimators=base_models, final_estimator=LinearRegression())\n",
    "\n",
    "#train the model\n",
    "stacking.fit(X_train,y_train)\n",
    "\n",
    "#predict and evaluate\n",
    "y_pred = stacking.predict(X_test)\n",
    "accuracy = r2_score(y_test,y_pred)\n",
    "print(f\"Voting Regressor Accuracy (R^2 Score):{accuracy:.2f}\")"
   ]
  },
  {
   "cell_type": "code",
   "execution_count": null,
   "id": "9f374842-1238-4ee0-be36-e8140998d701",
   "metadata": {},
   "outputs": [],
   "source": []
  }
 ],
 "metadata": {
  "kernelspec": {
   "display_name": "Python 3 (ipykernel)",
   "language": "python",
   "name": "python3"
  },
  "language_info": {
   "codemirror_mode": {
    "name": "ipython",
    "version": 3
   },
   "file_extension": ".py",
   "mimetype": "text/x-python",
   "name": "python",
   "nbconvert_exporter": "python",
   "pygments_lexer": "ipython3",
   "version": "3.12.4"
  }
 },
 "nbformat": 4,
 "nbformat_minor": 5
}
